{
 "cells": [
  {
   "cell_type": "code",
   "execution_count": 1,
   "id": "c04c0008",
   "metadata": {},
   "outputs": [],
   "source": [
    "# Pandas is a tool in Python that helps you collect (or read) data from a file, organize it in a tabular format, \n",
    "# and manipulate and clean it, if required, to derive insightful information from it."
   ]
  },
  {
   "cell_type": "code",
   "execution_count": 2,
   "id": "93d69d15",
   "metadata": {},
   "outputs": [],
   "source": [
    "import pandas as pd"
   ]
  },
  {
   "cell_type": "code",
   "execution_count": 3,
   "id": "14e44fed",
   "metadata": {},
   "outputs": [],
   "source": [
    "# Two fundamental Datasturctures or Objects in Python\n",
    "\n",
    "# 1. Series\n",
    "# 2. DataFrames"
   ]
  },
  {
   "cell_type": "code",
   "execution_count": 4,
   "id": "a7fb6544",
   "metadata": {},
   "outputs": [],
   "source": [
    "# Series - One Dimension Labelled array\n",
    "# It can contain any data types\n",
    "# It is like a column in a table"
   ]
  },
  {
   "cell_type": "code",
   "execution_count": 6,
   "id": "5cfe5898",
   "metadata": {},
   "outputs": [
    {
     "name": "stdout",
     "output_type": "stream",
     "text": [
      "0    1\n",
      "1    2\n",
      "2    3\n",
      "3    4\n",
      "4    5\n",
      "dtype: int64\n"
     ]
    }
   ],
   "source": [
    "# Labelled array\n",
    "# Labelled from index zero\n",
    "\n",
    "ex1 = [1,2,3,4,5]\n",
    "series_ex = pd.Series(ex1)\n",
    "print(series_ex)"
   ]
  },
  {
   "cell_type": "code",
   "execution_count": 9,
   "id": "ed2f2d07",
   "metadata": {},
   "outputs": [
    {
     "name": "stdout",
     "output_type": "stream",
     "text": [
      "one      1\n",
      "two      2\n",
      "three    3\n",
      "dtype: int64\n"
     ]
    }
   ],
   "source": [
    "# Creating series from dictionary\n",
    "# Labels are changed from defaul index to keys in dictionary\n",
    "\n",
    "ex2 = {\"one\":1, \"two\":2, \"three\":3}\n",
    "series_ex2 = pd.Series(ex2)\n",
    "print(series_ex2)"
   ]
  }
 ],
 "metadata": {
  "kernelspec": {
   "display_name": "Python 3",
   "language": "python",
   "name": "python3"
  },
  "language_info": {
   "codemirror_mode": {
    "name": "ipython",
    "version": 3
   },
   "file_extension": ".py",
   "mimetype": "text/x-python",
   "name": "python",
   "nbconvert_exporter": "python",
   "pygments_lexer": "ipython3",
   "version": "3.8.8"
  }
 },
 "nbformat": 4,
 "nbformat_minor": 5
}
