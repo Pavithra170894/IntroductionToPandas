{
 "cells": [
  {
   "cell_type": "code",
   "execution_count": 1,
   "id": "b76d742c",
   "metadata": {},
   "outputs": [],
   "source": [
    "# DataFrames\n",
    "# Two dimesional tables\n",
    "# collection of series"
   ]
  },
  {
   "cell_type": "code",
   "execution_count": 2,
   "id": "a64edea5",
   "metadata": {},
   "outputs": [],
   "source": [
    "# DataFrames can be created in two ways\n",
    "# 1. Python List\n",
    "# 2. Python Numpy Array"
   ]
  },
  {
   "cell_type": "code",
   "execution_count": 4,
   "id": "e205b679",
   "metadata": {},
   "outputs": [],
   "source": [
    "import pandas as pd"
   ]
  },
  {
   "cell_type": "code",
   "execution_count": 10,
   "id": "8f0ed64b",
   "metadata": {},
   "outputs": [
    {
     "name": "stdout",
     "output_type": "stream",
     "text": [
      "   ID NAME  PRICE\n",
      "1   1    a  100.0\n",
      "2   2    b  100.1\n",
      "3   3    c  100.5\n"
     ]
    }
   ],
   "source": [
    "# Creating dataframe from list\n",
    "# User defined column names and index\n",
    "data = [[1,'a',100.00], [2, 'b', 100.10], [3, 'c', 100.5]]\n",
    "df1 = pd.DataFrame(data, columns = ['ID', 'NAME', 'PRICE'], index = [1,2,3])\n",
    "print(df1)"
   ]
  },
  {
   "cell_type": "code",
   "execution_count": 12,
   "id": "d207f212",
   "metadata": {},
   "outputs": [
    {
     "name": "stdout",
     "output_type": "stream",
     "text": [
      "   ID NAME  PRICE\n",
      "0   1    a   10.0\n",
      "1   2    b   10.1\n",
      "2   3    c   10.2\n"
     ]
    }
   ],
   "source": [
    "# Creating dataframe from dictionary\n",
    "data = {\n",
    "    \"ID\" : [1,2,3],\n",
    "    \"NAME\" : ['a','b','c'],\n",
    "    \"PRICE\" : [10.0, 10.1, 10.2]\n",
    "}\n",
    "\n",
    "df2 = pd.DataFrame(data)\n",
    "print(df2)"
   ]
  },
  {
   "cell_type": "code",
   "execution_count": 15,
   "id": "25632c0d",
   "metadata": {},
   "outputs": [
    {
     "name": "stdout",
     "output_type": "stream",
     "text": [
      "   regid      name  salary\n",
      "0      1  pavithra     100\n",
      "1      2  shivangi     200\n",
      "2      3    samrat     140\n",
      "3      4    rakesh     120\n",
      "4      5    amogha     180\n"
     ]
    }
   ],
   "source": [
    "# Read from CSV File\n",
    "csv_file1 = pd.read_csv(\"sample.csv\")\n",
    "print(csv_file1)"
   ]
  },
  {
   "cell_type": "code",
   "execution_count": 16,
   "id": "7a81c68e",
   "metadata": {},
   "outputs": [],
   "source": [
    "# Convert to CSV File\n",
    "df2.to_csv(\"sample_write.csv\", index=False)"
   ]
  }
 ],
 "metadata": {
  "kernelspec": {
   "display_name": "Python 3",
   "language": "python",
   "name": "python3"
  },
  "language_info": {
   "codemirror_mode": {
    "name": "ipython",
    "version": 3
   },
   "file_extension": ".py",
   "mimetype": "text/x-python",
   "name": "python",
   "nbconvert_exporter": "python",
   "pygments_lexer": "ipython3",
   "version": "3.8.8"
  }
 },
 "nbformat": 4,
 "nbformat_minor": 5
}
